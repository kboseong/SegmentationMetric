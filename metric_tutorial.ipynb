{
 "cells": [
  {
   "cell_type": "markdown",
   "metadata": {},
   "source": [
    "# Segmentation metric tutorial\n",
    "Code and tutorial of the calculating MaskRCNN segmentation metric "
   ]
  },
  {
   "cell_type": "code",
   "execution_count": 78,
   "metadata": {},
   "outputs": [
    {
     "name": "stdout",
     "output_type": "stream",
     "text": [
      "The autoreload extension is already loaded. To reload it, use:\n",
      "  %reload_ext autoreload\n"
     ]
    }
   ],
   "source": [
    "%load_ext autoreload\n",
    "%autoreload 2"
   ]
  },
  {
   "cell_type": "code",
   "execution_count": 91,
   "metadata": {},
   "outputs": [],
   "source": [
    "import os\n",
    "import sys\n",
    "import random\n",
    "import math\n",
    "import re\n",
    "import time\n",
    "import numpy as np\n",
    "import matplotlib\n",
    "import matplotlib.pyplot as plt\n",
    "import matplotlib.patches as patches\n",
    "import tensorflow as tf\n",
    "import metric as met\n",
    "\n",
    "os.environ[\"CUDA_DEVICE_ORDER\"]=\"PCI_BUS_ID\"\n",
    "os.environ[\"CUDA_VISIBLE_DEVICES\"]=\"0\"\n",
    "\n",
    "# Root directory of the project\n",
    "ROOT_DIR = os.path.abspath(\"../../\")\n",
    "\n",
    "# Import Mask RCNN\n",
    "sys.path.append(ROOT_DIR)  # To find local version of the library\n",
    "from mrcnn import utils\n",
    "from mrcnn import visualize\n",
    "from mrcnn.visualize import display_images, random_colors\n",
    "import mrcnn.model as modellib\n",
    "from mrcnn.model import log\n",
    "\n",
    "from samples.iris import iris\n",
    "\n",
    "%matplotlib inline \n",
    "\n",
    "# Directory to save logs and trained model\n",
    "MODEL_DIR = os.path.join(ROOT_DIR, \"logs\")\n",
    "\n",
    "# Path to Ballon trained weights\n",
    "# You can download this file from the Releases page\n",
    "# https://github.com/matterport/Mask_RCNN/releases\n",
    "IRIS_WEIGHTS_PATH = \"../../logs/iris20190416T0230/mask_rcnn_iris_0030.h5\"  # TODO: update this path"
   ]
  },
  {
   "cell_type": "markdown",
   "metadata": {},
   "source": [
    "# Configurations"
   ]
  },
  {
   "cell_type": "code",
   "execution_count": 80,
   "metadata": {},
   "outputs": [],
   "source": [
    "config = iris.IrisConfig()\n",
    "IRIS_DIR = os.path.join(ROOT_DIR, \"datasets/iris534\")"
   ]
  },
  {
   "cell_type": "code",
   "execution_count": 81,
   "metadata": {
    "scrolled": true
   },
   "outputs": [
    {
     "name": "stdout",
     "output_type": "stream",
     "text": [
      "\n",
      "Configurations:\n",
      "BACKBONE                       resnet101\n",
      "BACKBONE_STRIDES               [4, 8, 16, 32, 64]\n",
      "BATCH_SIZE                     1\n",
      "BBOX_STD_DEV                   [0.1 0.1 0.2 0.2]\n",
      "COMPUTE_BACKBONE_SHAPE         None\n",
      "DETECTION_MAX_INSTANCES        100\n",
      "DETECTION_MIN_CONFIDENCE       0.7\n",
      "DETECTION_NMS_THRESHOLD        0.3\n",
      "FPN_CLASSIF_FC_LAYERS_SIZE     1024\n",
      "GPU_COUNT                      1\n",
      "GRADIENT_CLIP_NORM             5.0\n",
      "IMAGES_PER_GPU                 1\n",
      "IMAGE_CHANNEL_COUNT            3\n",
      "IMAGE_MAX_DIM                  1280\n",
      "IMAGE_META_SIZE                18\n",
      "IMAGE_MIN_DIM                  960\n",
      "IMAGE_MIN_SCALE                0\n",
      "IMAGE_RESIZE_MODE              square\n",
      "IMAGE_SHAPE                    [1280 1280    3]\n",
      "LEARNING_MOMENTUM              0.9\n",
      "LEARNING_RATE                  0.001\n",
      "LOSS_WEIGHTS                   {'mrcnn_class_loss': 1.0, 'rpn_bbox_loss': 1.0, 'rpn_class_loss': 1.0, 'mrcnn_mask_loss': 1.0, 'mrcnn_bbox_loss': 1.0}\n",
      "MASK_POOL_SIZE                 14\n",
      "MASK_SHAPE                     [28, 28]\n",
      "MAX_GT_INSTANCES               100\n",
      "MEAN_PIXEL                     [123.7 116.8 103.9]\n",
      "MINI_MASK_SHAPE                (56, 56)\n",
      "NAME                           iris\n",
      "NUM_CLASSES                    6\n",
      "POOL_SIZE                      7\n",
      "POST_NMS_ROIS_INFERENCE        1000\n",
      "POST_NMS_ROIS_TRAINING         2000\n",
      "PRE_NMS_LIMIT                  6000\n",
      "ROI_POSITIVE_RATIO             0.33\n",
      "RPN_ANCHOR_RATIOS              [0.5, 1, 2]\n",
      "RPN_ANCHOR_SCALES              (32, 64, 128, 256, 512)\n",
      "RPN_ANCHOR_STRIDE              1\n",
      "RPN_BBOX_STD_DEV               [0.1 0.1 0.2 0.2]\n",
      "RPN_NMS_THRESHOLD              0.7\n",
      "RPN_TRAIN_ANCHORS_PER_IMAGE    256\n",
      "STEPS_PER_EPOCH                100\n",
      "TOP_DOWN_PYRAMID_SIZE          256\n",
      "TRAIN_BN                       False\n",
      "TRAIN_ROIS_PER_IMAGE           200\n",
      "USE_MINI_MASK                  True\n",
      "USE_RPN_ROIS                   True\n",
      "VALIDATION_STEPS               50\n",
      "WEIGHT_DECAY                   0.0001\n",
      "\n",
      "\n"
     ]
    }
   ],
   "source": [
    "# Override the training configurations with a few\n",
    "# changes for inferencing.\n",
    "class InferenceConfig(config.__class__):\n",
    "    # Run detection on one image at a time\n",
    "    GPU_COUNT = 1\n",
    "    IMAGES_PER_GPU = 1\n",
    "\n",
    "config = InferenceConfig()\n",
    "config.display()"
   ]
  },
  {
   "cell_type": "markdown",
   "metadata": {},
   "source": [
    "# Notebook Preference"
   ]
  },
  {
   "cell_type": "code",
   "execution_count": 82,
   "metadata": {},
   "outputs": [],
   "source": [
    "# Device to load the neural network on.\n",
    "# Useful if you're training a model on the same \n",
    "# machine, in which case use CPU and leave the\n",
    "# GPU for training.\n",
    "DEVICE = \"/gpu:0\"  # /cpu:0 or /gpu:0\n",
    "\n",
    "# Inspect the model in training or inference modes\n",
    "# values: 'inference' or 'training'\n",
    "# TODO: code for 'training' test mode not ready yet\n",
    "TEST_MODE = \"inference\""
   ]
  },
  {
   "cell_type": "code",
   "execution_count": 83,
   "metadata": {},
   "outputs": [],
   "source": [
    "def get_ax(rows=1, cols=1, size=16):\n",
    "    \"\"\"Return a Matplotlib Axes array to be used in\n",
    "    all visualizations in the notebook. Provide a\n",
    "    central point to control graph sizes.\n",
    "    \n",
    "    Adjust the size attribute to control how big to render images\n",
    "    \"\"\"\n",
    "    _, ax = plt.subplots(rows, cols, figsize=(size*cols, size*rows))\n",
    "    return ax"
   ]
  },
  {
   "cell_type": "code",
   "execution_count": 84,
   "metadata": {},
   "outputs": [],
   "source": [
    "def get_colors(class_ids, color_palate):\n",
    "    color_list = []\n",
    "    \n",
    "    for i, instance_id in enumerate(class_ids):\n",
    "        color_list.append(color_palate[instance_id])\n",
    "    return color_list"
   ]
  },
  {
   "cell_type": "markdown",
   "metadata": {},
   "source": [
    "# Load Validation Dataset"
   ]
  },
  {
   "cell_type": "code",
   "execution_count": 85,
   "metadata": {},
   "outputs": [
    {
     "name": "stdout",
     "output_type": "stream",
     "text": [
      "Images: 54\n",
      "Classes: ['BG', 'iris', 'pupil', 'light_source', 'hole', 'anw']\n"
     ]
    }
   ],
   "source": [
    "# Load validation dataset\n",
    "dataset = iris.IrisDataset()\n",
    "dataset.load_iris(IRIS_DIR, \"val\")\n",
    "\n",
    "# Must call before using the datset\n",
    "dataset.prepare()\n",
    "\n",
    "print(\"Images: {}\\nClasses: {}\".format(len(dataset.image_ids), dataset.class_names))"
   ]
  },
  {
   "cell_type": "markdown",
   "metadata": {},
   "source": [
    "# Load Model"
   ]
  },
  {
   "cell_type": "code",
   "execution_count": 86,
   "metadata": {},
   "outputs": [],
   "source": [
    "# Create model in inference mode\n",
    "with tf.device(DEVICE):\n",
    "    model = modellib.MaskRCNN(mode=\"inference\", model_dir=MODEL_DIR,\n",
    "                              config=config)"
   ]
  },
  {
   "cell_type": "code",
   "execution_count": 87,
   "metadata": {
    "scrolled": false
   },
   "outputs": [
    {
     "name": "stdout",
     "output_type": "stream",
     "text": [
      "Loading weights  ../../logs/iris20190416T0230/mask_rcnn_iris_0030.h5\n",
      "Re-starting from epoch 30\n"
     ]
    }
   ],
   "source": [
    "# Load the last model you trained\n",
    "#weights_path = model.find_last()\n",
    "weights_path = IRIS_WEIGHTS_PATH\n",
    "\n",
    "# Load weights\n",
    "print(\"Loading weights \", weights_path)\n",
    "model.load_weights(weights_path, by_name=True)"
   ]
  },
  {
   "cell_type": "code",
   "execution_count": 88,
   "metadata": {},
   "outputs": [
    {
     "data": {
      "text/plain": [
       "array([ 0,  1,  2,  3,  4,  5,  6,  7,  8,  9, 10, 11, 12, 13, 14, 15, 16,\n",
       "       17, 18, 19, 20, 21, 22, 23, 24, 25, 26, 27, 28, 29, 30, 31, 32, 33,\n",
       "       34, 35, 36, 37, 38, 39, 40, 41, 42, 43, 44, 45, 46, 47, 48, 49, 50,\n",
       "       51, 52, 53])"
      ]
     },
     "execution_count": 88,
     "metadata": {},
     "output_type": "execute_result"
    }
   ],
   "source": [
    "dataset.image_ids"
   ]
  },
  {
   "cell_type": "markdown",
   "metadata": {},
   "source": [
    "# Metric - Image load & prepare input data"
   ]
  },
  {
   "cell_type": "code",
   "execution_count": 89,
   "metadata": {
    "scrolled": true
   },
   "outputs": [
    {
     "name": "stderr",
     "output_type": "stream",
     "text": [
      "\r",
      "  0%|          | 0/54 [00:00<?, ?it/s]"
     ]
    },
    {
     "name": "stdout",
     "output_type": "stream",
     "text": [
      "Processing 1 images\n",
      "image                    shape: (1280, 1280, 3)       min:    0.00000  max:  255.00000  uint8\n",
      "molded_images            shape: (1, 1280, 1280, 3)    min: -123.70000  max:  151.10000  float64\n",
      "image_metas              shape: (1, 18)               min:    0.00000  max: 1280.00000  int64\n",
      "anchors                  shape: (1, 409200, 4)        min:   -0.28306  max:    1.23302  float32\n"
     ]
    },
    {
     "name": "stderr",
     "output_type": "stream",
     "text": [
      "\r",
      "  2%|▏         | 1/54 [00:52<46:38, 52.80s/it]"
     ]
    },
    {
     "name": "stdout",
     "output_type": "stream",
     "text": [
      "Processing 1 images\n",
      "image                    shape: (1280, 1280, 3)       min:    0.00000  max:  255.00000  uint8\n",
      "molded_images            shape: (1, 1280, 1280, 3)    min: -123.70000  max:  151.10000  float64\n",
      "image_metas              shape: (1, 18)               min:    0.00000  max: 1280.00000  int64\n",
      "anchors                  shape: (1, 409200, 4)        min:   -0.28306  max:    1.23302  float32\n"
     ]
    },
    {
     "name": "stderr",
     "output_type": "stream",
     "text": [
      "\r",
      "  4%|▎         | 2/54 [00:54<32:29, 37.49s/it]"
     ]
    },
    {
     "name": "stdout",
     "output_type": "stream",
     "text": [
      "Processing 1 images\n",
      "image                    shape: (1280, 1280, 3)       min:    0.00000  max:  255.00000  uint8\n",
      "molded_images            shape: (1, 1280, 1280, 3)    min: -123.70000  max:  151.10000  float64\n",
      "image_metas              shape: (1, 18)               min:    0.00000  max: 1280.00000  int64\n",
      "anchors                  shape: (1, 409200, 4)        min:   -0.28306  max:    1.23302  float32\n"
     ]
    },
    {
     "name": "stderr",
     "output_type": "stream",
     "text": [
      "\r",
      "  6%|▌         | 3/54 [00:56<22:43, 26.74s/it]"
     ]
    },
    {
     "name": "stdout",
     "output_type": "stream",
     "text": [
      "Processing 1 images\n",
      "image                    shape: (1280, 1280, 3)       min:    0.00000  max:  255.00000  uint8\n",
      "molded_images            shape: (1, 1280, 1280, 3)    min: -123.70000  max:  151.10000  float64\n",
      "image_metas              shape: (1, 18)               min:    0.00000  max: 1280.00000  int64\n",
      "anchors                  shape: (1, 409200, 4)        min:   -0.28306  max:    1.23302  float32\n"
     ]
    },
    {
     "name": "stderr",
     "output_type": "stream",
     "text": [
      "\r",
      "  7%|▋         | 4/54 [00:57<15:58, 19.17s/it]"
     ]
    },
    {
     "name": "stdout",
     "output_type": "stream",
     "text": [
      "Processing 1 images\n",
      "image                    shape: (1280, 1280, 3)       min:    0.00000  max:  255.00000  uint8\n",
      "molded_images            shape: (1, 1280, 1280, 3)    min: -123.70000  max:  151.10000  float64\n",
      "image_metas              shape: (1, 18)               min:    0.00000  max: 1280.00000  int64\n",
      "anchors                  shape: (1, 409200, 4)        min:   -0.28306  max:    1.23302  float32\n"
     ]
    },
    {
     "name": "stderr",
     "output_type": "stream",
     "text": [
      "\r",
      "  9%|▉         | 5/54 [00:59<11:22, 13.93s/it]"
     ]
    },
    {
     "name": "stdout",
     "output_type": "stream",
     "text": [
      "Processing 1 images\n",
      "image                    shape: (1280, 1280, 3)       min:    0.00000  max:  255.00000  uint8\n",
      "molded_images            shape: (1, 1280, 1280, 3)    min: -123.70000  max:  151.10000  float64\n",
      "image_metas              shape: (1, 18)               min:    0.00000  max: 1280.00000  int64\n",
      "anchors                  shape: (1, 409200, 4)        min:   -0.28306  max:    1.23302  float32\n"
     ]
    },
    {
     "name": "stderr",
     "output_type": "stream",
     "text": [
      "\r",
      " 11%|█         | 6/54 [01:01<08:12, 10.27s/it]"
     ]
    },
    {
     "name": "stdout",
     "output_type": "stream",
     "text": [
      "Processing 1 images\n",
      "image                    shape: (1280, 1280, 3)       min:    0.00000  max:  255.00000  uint8\n",
      "molded_images            shape: (1, 1280, 1280, 3)    min: -123.70000  max:  151.10000  float64\n",
      "image_metas              shape: (1, 18)               min:    0.00000  max: 1280.00000  int64\n",
      "anchors                  shape: (1, 409200, 4)        min:   -0.28306  max:    1.23302  float32\n"
     ]
    },
    {
     "name": "stderr",
     "output_type": "stream",
     "text": [
      "\r",
      " 13%|█▎        | 7/54 [01:02<05:57,  7.60s/it]"
     ]
    },
    {
     "name": "stdout",
     "output_type": "stream",
     "text": [
      "Processing 1 images\n",
      "image                    shape: (1280, 1280, 3)       min:    0.00000  max:  255.00000  uint8\n",
      "molded_images            shape: (1, 1280, 1280, 3)    min: -123.70000  max:  151.10000  float64\n",
      "image_metas              shape: (1, 18)               min:    0.00000  max: 1280.00000  int64\n",
      "anchors                  shape: (1, 409200, 4)        min:   -0.28306  max:    1.23302  float32\n"
     ]
    },
    {
     "name": "stderr",
     "output_type": "stream",
     "text": [
      "\r",
      " 15%|█▍        | 8/54 [01:03<04:21,  5.68s/it]"
     ]
    },
    {
     "name": "stdout",
     "output_type": "stream",
     "text": [
      "Processing 1 images\n",
      "image                    shape: (1280, 1280, 3)       min:    0.00000  max:  255.00000  uint8\n",
      "molded_images            shape: (1, 1280, 1280, 3)    min: -123.70000  max:  151.10000  float64\n",
      "image_metas              shape: (1, 18)               min:    0.00000  max: 1280.00000  int64\n",
      "anchors                  shape: (1, 409200, 4)        min:   -0.28306  max:    1.23302  float32\n"
     ]
    },
    {
     "name": "stderr",
     "output_type": "stream",
     "text": [
      "\r",
      " 17%|█▋        | 9/54 [01:07<03:46,  5.04s/it]"
     ]
    },
    {
     "name": "stdout",
     "output_type": "stream",
     "text": [
      "Processing 1 images\n",
      "image                    shape: (1280, 1280, 3)       min:    0.00000  max:  255.00000  uint8\n",
      "molded_images            shape: (1, 1280, 1280, 3)    min: -123.70000  max:  151.10000  float64\n",
      "image_metas              shape: (1, 18)               min:    0.00000  max: 1280.00000  int64\n",
      "anchors                  shape: (1, 409200, 4)        min:   -0.28306  max:    1.23302  float32\n"
     ]
    },
    {
     "name": "stderr",
     "output_type": "stream",
     "text": [
      "\r",
      " 19%|█▊        | 10/54 [01:08<02:55,  4.00s/it]"
     ]
    },
    {
     "name": "stdout",
     "output_type": "stream",
     "text": [
      "Processing 1 images\n",
      "image                    shape: (1280, 1280, 3)       min:    0.00000  max:  255.00000  uint8\n",
      "molded_images            shape: (1, 1280, 1280, 3)    min: -123.70000  max:  151.10000  float64\n",
      "image_metas              shape: (1, 18)               min:    0.00000  max: 1280.00000  int64\n",
      "anchors                  shape: (1, 409200, 4)        min:   -0.28306  max:    1.23302  float32\n"
     ]
    },
    {
     "name": "stderr",
     "output_type": "stream",
     "text": [
      "\r",
      " 20%|██        | 11/54 [01:10<02:25,  3.39s/it]"
     ]
    },
    {
     "name": "stdout",
     "output_type": "stream",
     "text": [
      "Processing 1 images\n",
      "image                    shape: (1280, 1280, 3)       min:    0.00000  max:  255.00000  uint8\n",
      "molded_images            shape: (1, 1280, 1280, 3)    min: -123.70000  max:  151.10000  float64\n",
      "image_metas              shape: (1, 18)               min:    0.00000  max: 1280.00000  int64\n",
      "anchors                  shape: (1, 409200, 4)        min:   -0.28306  max:    1.23302  float32\n"
     ]
    },
    {
     "name": "stderr",
     "output_type": "stream",
     "text": [
      "\r",
      " 22%|██▏       | 12/54 [01:12<02:03,  2.93s/it]"
     ]
    },
    {
     "name": "stdout",
     "output_type": "stream",
     "text": [
      "Processing 1 images\n",
      "image                    shape: (1280, 1280, 3)       min:    0.00000  max:  255.00000  uint8\n",
      "molded_images            shape: (1, 1280, 1280, 3)    min: -123.70000  max:  151.10000  float64\n",
      "image_metas              shape: (1, 18)               min:    0.00000  max: 1280.00000  int64\n",
      "anchors                  shape: (1, 409200, 4)        min:   -0.28306  max:    1.23302  float32\n"
     ]
    },
    {
     "name": "stderr",
     "output_type": "stream",
     "text": [
      "\r",
      " 24%|██▍       | 13/54 [01:14<01:46,  2.59s/it]"
     ]
    },
    {
     "name": "stdout",
     "output_type": "stream",
     "text": [
      "Processing 1 images\n",
      "image                    shape: (1280, 1280, 3)       min:    0.00000  max:  255.00000  uint8\n",
      "molded_images            shape: (1, 1280, 1280, 3)    min: -123.70000  max:  151.10000  float64\n",
      "image_metas              shape: (1, 18)               min:    0.00000  max: 1280.00000  int64\n",
      "anchors                  shape: (1, 409200, 4)        min:   -0.28306  max:    1.23302  float32\n"
     ]
    },
    {
     "name": "stderr",
     "output_type": "stream",
     "text": [
      "\r",
      " 26%|██▌       | 14/54 [01:17<01:48,  2.71s/it]"
     ]
    },
    {
     "name": "stdout",
     "output_type": "stream",
     "text": [
      "Processing 1 images\n",
      "image                    shape: (1280, 1280, 3)       min:    0.00000  max:  255.00000  uint8\n",
      "molded_images            shape: (1, 1280, 1280, 3)    min: -123.70000  max:  151.10000  float64\n",
      "image_metas              shape: (1, 18)               min:    0.00000  max: 1280.00000  int64\n",
      "anchors                  shape: (1, 409200, 4)        min:   -0.28306  max:    1.23302  float32\n"
     ]
    },
    {
     "name": "stderr",
     "output_type": "stream",
     "text": [
      "\r",
      " 28%|██▊       | 15/54 [01:19<01:38,  2.54s/it]"
     ]
    },
    {
     "name": "stdout",
     "output_type": "stream",
     "text": [
      "Processing 1 images\n",
      "image                    shape: (1280, 1280, 3)       min:    0.00000  max:  255.00000  uint8\n",
      "molded_images            shape: (1, 1280, 1280, 3)    min: -123.70000  max:  151.10000  float64\n",
      "image_metas              shape: (1, 18)               min:    0.00000  max: 1280.00000  int64\n",
      "anchors                  shape: (1, 409200, 4)        min:   -0.28306  max:    1.23302  float32\n"
     ]
    },
    {
     "name": "stderr",
     "output_type": "stream",
     "text": [
      "\r",
      " 30%|██▉       | 16/54 [01:21<01:25,  2.26s/it]"
     ]
    },
    {
     "name": "stdout",
     "output_type": "stream",
     "text": [
      "Processing 1 images\n",
      "image                    shape: (1280, 1280, 3)       min:    0.00000  max:  255.00000  uint8\n",
      "molded_images            shape: (1, 1280, 1280, 3)    min: -123.70000  max:  151.10000  float64\n",
      "image_metas              shape: (1, 18)               min:    0.00000  max: 1280.00000  int64\n",
      "anchors                  shape: (1, 409200, 4)        min:   -0.28306  max:    1.23302  float32\n"
     ]
    },
    {
     "name": "stderr",
     "output_type": "stream",
     "text": [
      "\r",
      " 31%|███▏      | 17/54 [01:22<01:17,  2.10s/it]"
     ]
    },
    {
     "name": "stdout",
     "output_type": "stream",
     "text": [
      "Processing 1 images\n",
      "image                    shape: (1280, 1280, 3)       min:    0.00000  max:  255.00000  uint8\n",
      "molded_images            shape: (1, 1280, 1280, 3)    min: -123.70000  max:  151.10000  float64\n",
      "image_metas              shape: (1, 18)               min:    0.00000  max: 1280.00000  int64\n",
      "anchors                  shape: (1, 409200, 4)        min:   -0.28306  max:    1.23302  float32\n"
     ]
    },
    {
     "name": "stderr",
     "output_type": "stream",
     "text": [
      "\r",
      " 33%|███▎      | 18/54 [01:24<01:14,  2.08s/it]"
     ]
    },
    {
     "name": "stdout",
     "output_type": "stream",
     "text": [
      "Processing 1 images\n",
      "image                    shape: (1280, 1280, 3)       min:    0.00000  max:  255.00000  uint8\n",
      "molded_images            shape: (1, 1280, 1280, 3)    min: -123.70000  max:  151.10000  float64\n",
      "image_metas              shape: (1, 18)               min:    0.00000  max: 1280.00000  int64\n",
      "anchors                  shape: (1, 409200, 4)        min:   -0.28306  max:    1.23302  float32\n"
     ]
    },
    {
     "name": "stderr",
     "output_type": "stream",
     "text": [
      "\r",
      " 35%|███▌      | 19/54 [01:26<01:05,  1.88s/it]"
     ]
    },
    {
     "name": "stdout",
     "output_type": "stream",
     "text": [
      "Processing 1 images\n",
      "image                    shape: (1280, 1280, 3)       min:    0.00000  max:  255.00000  uint8\n",
      "molded_images            shape: (1, 1280, 1280, 3)    min: -123.70000  max:  151.10000  float64\n",
      "image_metas              shape: (1, 18)               min:    0.00000  max: 1280.00000  int64\n",
      "anchors                  shape: (1, 409200, 4)        min:   -0.28306  max:    1.23302  float32\n"
     ]
    },
    {
     "name": "stderr",
     "output_type": "stream",
     "text": [
      "\r",
      " 37%|███▋      | 20/54 [01:29<01:19,  2.35s/it]"
     ]
    },
    {
     "name": "stdout",
     "output_type": "stream",
     "text": [
      "Processing 1 images\n",
      "image                    shape: (1280, 1280, 3)       min:    0.00000  max:  255.00000  uint8\n",
      "molded_images            shape: (1, 1280, 1280, 3)    min: -123.70000  max:  151.10000  float64\n",
      "image_metas              shape: (1, 18)               min:    0.00000  max: 1280.00000  int64\n",
      "anchors                  shape: (1, 409200, 4)        min:   -0.28306  max:    1.23302  float32\n"
     ]
    },
    {
     "name": "stderr",
     "output_type": "stream",
     "text": [
      "\r",
      " 39%|███▉      | 21/54 [01:31<01:07,  2.05s/it]"
     ]
    },
    {
     "name": "stdout",
     "output_type": "stream",
     "text": [
      "Processing 1 images\n",
      "image                    shape: (1280, 1280, 3)       min:    0.00000  max:  255.00000  uint8\n",
      "molded_images            shape: (1, 1280, 1280, 3)    min: -123.70000  max:  151.10000  float64\n",
      "image_metas              shape: (1, 18)               min:    0.00000  max: 1280.00000  int64\n",
      "anchors                  shape: (1, 409200, 4)        min:   -0.28306  max:    1.23302  float32\n"
     ]
    },
    {
     "name": "stderr",
     "output_type": "stream",
     "text": [
      "\r",
      " 41%|████      | 22/54 [01:33<01:07,  2.11s/it]"
     ]
    },
    {
     "name": "stdout",
     "output_type": "stream",
     "text": [
      "Processing 1 images\n",
      "image                    shape: (1280, 1280, 3)       min:    0.00000  max:  255.00000  uint8\n",
      "molded_images            shape: (1, 1280, 1280, 3)    min: -123.70000  max:  151.10000  float64\n",
      "image_metas              shape: (1, 18)               min:    0.00000  max: 1280.00000  int64\n",
      "anchors                  shape: (1, 409200, 4)        min:   -0.28306  max:    1.23302  float32\n"
     ]
    },
    {
     "name": "stderr",
     "output_type": "stream",
     "text": [
      "\r",
      " 43%|████▎     | 23/54 [01:35<01:01,  1.98s/it]"
     ]
    },
    {
     "name": "stdout",
     "output_type": "stream",
     "text": [
      "Processing 1 images\n",
      "image                    shape: (1280, 1280, 3)       min:    0.00000  max:  255.00000  uint8\n",
      "molded_images            shape: (1, 1280, 1280, 3)    min: -123.70000  max:  151.10000  float64\n",
      "image_metas              shape: (1, 18)               min:    0.00000  max: 1280.00000  int64\n",
      "anchors                  shape: (1, 409200, 4)        min:   -0.28306  max:    1.23302  float32\n"
     ]
    },
    {
     "name": "stderr",
     "output_type": "stream",
     "text": [
      "\r",
      " 44%|████▍     | 24/54 [01:37<00:59,  1.98s/it]"
     ]
    },
    {
     "name": "stdout",
     "output_type": "stream",
     "text": [
      "Processing 1 images\n",
      "image                    shape: (1280, 1280, 3)       min:    0.00000  max:  255.00000  uint8\n",
      "molded_images            shape: (1, 1280, 1280, 3)    min: -123.70000  max:  151.10000  float64\n",
      "image_metas              shape: (1, 18)               min:    0.00000  max: 1280.00000  int64\n",
      "anchors                  shape: (1, 409200, 4)        min:   -0.28306  max:    1.23302  float32\n"
     ]
    },
    {
     "name": "stderr",
     "output_type": "stream",
     "text": [
      "\r",
      " 46%|████▋     | 25/54 [01:38<00:53,  1.86s/it]"
     ]
    },
    {
     "name": "stdout",
     "output_type": "stream",
     "text": [
      "Processing 1 images\n",
      "image                    shape: (1280, 1280, 3)       min:    0.00000  max:  255.00000  uint8\n",
      "molded_images            shape: (1, 1280, 1280, 3)    min: -123.70000  max:  151.10000  float64\n",
      "image_metas              shape: (1, 18)               min:    0.00000  max: 1280.00000  int64\n",
      "anchors                  shape: (1, 409200, 4)        min:   -0.28306  max:    1.23302  float32\n"
     ]
    },
    {
     "name": "stderr",
     "output_type": "stream",
     "text": [
      "\r",
      " 48%|████▊     | 26/54 [01:40<00:52,  1.89s/it]"
     ]
    },
    {
     "name": "stdout",
     "output_type": "stream",
     "text": [
      "Processing 1 images\n",
      "image                    shape: (1280, 1280, 3)       min:    0.00000  max:  255.00000  uint8\n",
      "molded_images            shape: (1, 1280, 1280, 3)    min: -123.70000  max:  151.10000  float64\n",
      "image_metas              shape: (1, 18)               min:    0.00000  max: 1280.00000  int64\n",
      "anchors                  shape: (1, 409200, 4)        min:   -0.28306  max:    1.23302  float32\n"
     ]
    },
    {
     "name": "stderr",
     "output_type": "stream",
     "text": [
      "\r",
      " 50%|█████     | 27/54 [01:44<01:05,  2.41s/it]"
     ]
    },
    {
     "name": "stdout",
     "output_type": "stream",
     "text": [
      "Processing 1 images\n",
      "image                    shape: (1280, 1280, 3)       min:    0.00000  max:  255.00000  uint8\n",
      "molded_images            shape: (1, 1280, 1280, 3)    min: -123.70000  max:  151.10000  float64\n",
      "image_metas              shape: (1, 18)               min:    0.00000  max: 1280.00000  int64\n",
      "anchors                  shape: (1, 409200, 4)        min:   -0.28306  max:    1.23302  float32\n"
     ]
    },
    {
     "name": "stderr",
     "output_type": "stream",
     "text": [
      "\r",
      " 52%|█████▏    | 28/54 [01:50<01:30,  3.46s/it]"
     ]
    },
    {
     "name": "stdout",
     "output_type": "stream",
     "text": [
      "Processing 1 images\n",
      "image                    shape: (1280, 1280, 3)       min:    0.00000  max:  255.00000  uint8\n",
      "molded_images            shape: (1, 1280, 1280, 3)    min: -123.70000  max:  151.10000  float64\n",
      "image_metas              shape: (1, 18)               min:    0.00000  max: 1280.00000  int64\n",
      "anchors                  shape: (1, 409200, 4)        min:   -0.28306  max:    1.23302  float32\n"
     ]
    },
    {
     "name": "stderr",
     "output_type": "stream",
     "text": [
      "\r",
      " 54%|█████▎    | 29/54 [01:52<01:14,  2.99s/it]"
     ]
    },
    {
     "name": "stdout",
     "output_type": "stream",
     "text": [
      "Processing 1 images\n",
      "image                    shape: (1280, 1280, 3)       min:    0.00000  max:  255.00000  uint8\n",
      "molded_images            shape: (1, 1280, 1280, 3)    min: -123.70000  max:  151.10000  float64\n",
      "image_metas              shape: (1, 18)               min:    0.00000  max: 1280.00000  int64\n",
      "anchors                  shape: (1, 409200, 4)        min:   -0.28306  max:    1.23302  float32\n"
     ]
    },
    {
     "name": "stderr",
     "output_type": "stream",
     "text": [
      "\r",
      " 56%|█████▌    | 30/54 [01:53<01:01,  2.58s/it]"
     ]
    },
    {
     "name": "stdout",
     "output_type": "stream",
     "text": [
      "Processing 1 images\n",
      "image                    shape: (1280, 1280, 3)       min:    0.00000  max:  255.00000  uint8\n",
      "molded_images            shape: (1, 1280, 1280, 3)    min: -123.70000  max:  151.10000  float64\n",
      "image_metas              shape: (1, 18)               min:    0.00000  max: 1280.00000  int64\n",
      "anchors                  shape: (1, 409200, 4)        min:   -0.28306  max:    1.23302  float32\n"
     ]
    },
    {
     "name": "stderr",
     "output_type": "stream",
     "text": [
      "\r",
      " 57%|█████▋    | 31/54 [01:55<00:55,  2.42s/it]"
     ]
    },
    {
     "name": "stdout",
     "output_type": "stream",
     "text": [
      "Processing 1 images\n",
      "image                    shape: (1280, 1280, 3)       min:    0.00000  max:  255.00000  uint8\n",
      "molded_images            shape: (1, 1280, 1280, 3)    min: -123.70000  max:  151.10000  float64\n",
      "image_metas              shape: (1, 18)               min:    0.00000  max: 1280.00000  int64\n",
      "anchors                  shape: (1, 409200, 4)        min:   -0.28306  max:    1.23302  float32\n"
     ]
    },
    {
     "name": "stderr",
     "output_type": "stream",
     "text": [
      "\r",
      " 59%|█████▉    | 32/54 [01:59<00:59,  2.70s/it]"
     ]
    },
    {
     "name": "stdout",
     "output_type": "stream",
     "text": [
      "Processing 1 images\n",
      "image                    shape: (1280, 1280, 3)       min:    0.00000  max:  255.00000  uint8\n",
      "molded_images            shape: (1, 1280, 1280, 3)    min: -123.70000  max:  151.10000  float64\n",
      "image_metas              shape: (1, 18)               min:    0.00000  max: 1280.00000  int64\n",
      "anchors                  shape: (1, 409200, 4)        min:   -0.28306  max:    1.23302  float32\n"
     ]
    },
    {
     "name": "stderr",
     "output_type": "stream",
     "text": [
      "\r",
      " 61%|██████    | 33/54 [02:00<00:48,  2.32s/it]"
     ]
    },
    {
     "name": "stdout",
     "output_type": "stream",
     "text": [
      "Processing 1 images\n",
      "image                    shape: (1280, 1280, 3)       min:    0.00000  max:  255.00000  uint8\n",
      "molded_images            shape: (1, 1280, 1280, 3)    min: -123.70000  max:  151.10000  float64\n",
      "image_metas              shape: (1, 18)               min:    0.00000  max: 1280.00000  int64\n",
      "anchors                  shape: (1, 409200, 4)        min:   -0.28306  max:    1.23302  float32\n"
     ]
    },
    {
     "name": "stderr",
     "output_type": "stream",
     "text": [
      "\r",
      " 63%|██████▎   | 34/54 [02:04<00:57,  2.89s/it]"
     ]
    },
    {
     "name": "stdout",
     "output_type": "stream",
     "text": [
      "Processing 1 images\n",
      "image                    shape: (1280, 1280, 3)       min:    0.00000  max:  255.00000  uint8\n",
      "molded_images            shape: (1, 1280, 1280, 3)    min: -123.70000  max:  151.10000  float64\n",
      "image_metas              shape: (1, 18)               min:    0.00000  max: 1280.00000  int64\n",
      "anchors                  shape: (1, 409200, 4)        min:   -0.28306  max:    1.23302  float32\n"
     ]
    },
    {
     "name": "stderr",
     "output_type": "stream",
     "text": [
      "\r",
      " 65%|██████▍   | 35/54 [02:08<00:58,  3.08s/it]"
     ]
    },
    {
     "name": "stdout",
     "output_type": "stream",
     "text": [
      "Processing 1 images\n",
      "image                    shape: (1280, 1280, 3)       min:    0.00000  max:  255.00000  uint8\n",
      "molded_images            shape: (1, 1280, 1280, 3)    min: -123.70000  max:  151.10000  float64\n",
      "image_metas              shape: (1, 18)               min:    0.00000  max: 1280.00000  int64\n",
      "anchors                  shape: (1, 409200, 4)        min:   -0.28306  max:    1.23302  float32\n"
     ]
    },
    {
     "name": "stderr",
     "output_type": "stream",
     "text": [
      "\r",
      " 67%|██████▋   | 36/54 [02:11<00:56,  3.14s/it]"
     ]
    },
    {
     "name": "stdout",
     "output_type": "stream",
     "text": [
      "Processing 1 images\n",
      "image                    shape: (1280, 1280, 3)       min:    0.00000  max:  255.00000  uint8\n",
      "molded_images            shape: (1, 1280, 1280, 3)    min: -123.70000  max:  151.10000  float64\n",
      "image_metas              shape: (1, 18)               min:    0.00000  max: 1280.00000  int64\n",
      "anchors                  shape: (1, 409200, 4)        min:   -0.28306  max:    1.23302  float32\n"
     ]
    },
    {
     "name": "stderr",
     "output_type": "stream",
     "text": [
      "\r",
      " 69%|██████▊   | 37/54 [02:13<00:48,  2.88s/it]"
     ]
    },
    {
     "name": "stdout",
     "output_type": "stream",
     "text": [
      "Processing 1 images\n",
      "image                    shape: (1280, 1280, 3)       min:    0.00000  max:  255.00000  uint8\n",
      "molded_images            shape: (1, 1280, 1280, 3)    min: -123.70000  max:  151.10000  float64\n",
      "image_metas              shape: (1, 18)               min:    0.00000  max: 1280.00000  int64\n",
      "anchors                  shape: (1, 409200, 4)        min:   -0.28306  max:    1.23302  float32\n"
     ]
    },
    {
     "name": "stderr",
     "output_type": "stream",
     "text": [
      "\r",
      " 70%|███████   | 38/54 [02:16<00:43,  2.72s/it]"
     ]
    },
    {
     "name": "stdout",
     "output_type": "stream",
     "text": [
      "Processing 1 images\n",
      "image                    shape: (1280, 1280, 3)       min:    0.00000  max:  255.00000  uint8\n",
      "molded_images            shape: (1, 1280, 1280, 3)    min: -123.70000  max:  151.10000  float64\n",
      "image_metas              shape: (1, 18)               min:    0.00000  max: 1280.00000  int64\n",
      "anchors                  shape: (1, 409200, 4)        min:   -0.28306  max:    1.23302  float32\n"
     ]
    },
    {
     "name": "stderr",
     "output_type": "stream",
     "text": [
      "\r",
      " 72%|███████▏  | 39/54 [02:17<00:34,  2.28s/it]"
     ]
    },
    {
     "name": "stdout",
     "output_type": "stream",
     "text": [
      "Processing 1 images\n",
      "image                    shape: (1280, 1280, 3)       min:    0.00000  max:  255.00000  uint8\n",
      "molded_images            shape: (1, 1280, 1280, 3)    min: -123.70000  max:  151.10000  float64\n",
      "image_metas              shape: (1, 18)               min:    0.00000  max: 1280.00000  int64\n",
      "anchors                  shape: (1, 409200, 4)        min:   -0.28306  max:    1.23302  float32\n"
     ]
    },
    {
     "name": "stderr",
     "output_type": "stream",
     "text": [
      "\r",
      " 74%|███████▍  | 40/54 [02:20<00:35,  2.52s/it]"
     ]
    },
    {
     "name": "stdout",
     "output_type": "stream",
     "text": [
      "Processing 1 images\n",
      "image                    shape: (1280, 1280, 3)       min:    0.00000  max:  255.00000  uint8\n",
      "molded_images            shape: (1, 1280, 1280, 3)    min: -123.70000  max:  151.10000  float64\n",
      "image_metas              shape: (1, 18)               min:    0.00000  max: 1280.00000  int64\n",
      "anchors                  shape: (1, 409200, 4)        min:   -0.28306  max:    1.23302  float32\n"
     ]
    },
    {
     "name": "stderr",
     "output_type": "stream",
     "text": [
      "\r",
      " 76%|███████▌  | 41/54 [02:23<00:35,  2.76s/it]"
     ]
    },
    {
     "name": "stdout",
     "output_type": "stream",
     "text": [
      "Processing 1 images\n",
      "image                    shape: (1280, 1280, 3)       min:    0.00000  max:  255.00000  uint8\n",
      "molded_images            shape: (1, 1280, 1280, 3)    min: -123.70000  max:  151.10000  float64\n",
      "image_metas              shape: (1, 18)               min:    0.00000  max: 1280.00000  int64\n",
      "anchors                  shape: (1, 409200, 4)        min:   -0.28306  max:    1.23302  float32\n"
     ]
    },
    {
     "name": "stderr",
     "output_type": "stream",
     "text": [
      "\r",
      " 78%|███████▊  | 42/54 [02:26<00:32,  2.69s/it]"
     ]
    },
    {
     "name": "stdout",
     "output_type": "stream",
     "text": [
      "Processing 1 images\n",
      "image                    shape: (1280, 1280, 3)       min:    0.00000  max:  255.00000  uint8\n",
      "molded_images            shape: (1, 1280, 1280, 3)    min: -123.70000  max:  151.10000  float64\n",
      "image_metas              shape: (1, 18)               min:    0.00000  max: 1280.00000  int64\n",
      "anchors                  shape: (1, 409200, 4)        min:   -0.28306  max:    1.23302  float32\n"
     ]
    },
    {
     "name": "stderr",
     "output_type": "stream",
     "text": [
      "\r",
      " 80%|███████▉  | 43/54 [02:27<00:25,  2.35s/it]"
     ]
    },
    {
     "name": "stdout",
     "output_type": "stream",
     "text": [
      "Processing 1 images\n",
      "image                    shape: (1280, 1280, 3)       min:    0.00000  max:  255.00000  uint8\n",
      "molded_images            shape: (1, 1280, 1280, 3)    min: -123.70000  max:  151.10000  float64\n",
      "image_metas              shape: (1, 18)               min:    0.00000  max: 1280.00000  int64\n",
      "anchors                  shape: (1, 409200, 4)        min:   -0.28306  max:    1.23302  float32\n"
     ]
    },
    {
     "name": "stderr",
     "output_type": "stream",
     "text": [
      "\r",
      " 81%|████████▏ | 44/54 [02:29<00:21,  2.17s/it]"
     ]
    },
    {
     "name": "stdout",
     "output_type": "stream",
     "text": [
      "Processing 1 images\n",
      "image                    shape: (1280, 1280, 3)       min:    0.00000  max:  255.00000  uint8\n",
      "molded_images            shape: (1, 1280, 1280, 3)    min: -123.70000  max:  151.10000  float64\n",
      "image_metas              shape: (1, 18)               min:    0.00000  max: 1280.00000  int64\n",
      "anchors                  shape: (1, 409200, 4)        min:   -0.28306  max:    1.23302  float32\n"
     ]
    },
    {
     "name": "stderr",
     "output_type": "stream",
     "text": [
      "\r",
      " 83%|████████▎ | 45/54 [02:31<00:18,  2.03s/it]"
     ]
    },
    {
     "name": "stdout",
     "output_type": "stream",
     "text": [
      "Processing 1 images\n",
      "image                    shape: (1280, 1280, 3)       min:    0.00000  max:  255.00000  uint8\n",
      "molded_images            shape: (1, 1280, 1280, 3)    min: -123.70000  max:  151.10000  float64\n",
      "image_metas              shape: (1, 18)               min:    0.00000  max: 1280.00000  int64\n",
      "anchors                  shape: (1, 409200, 4)        min:   -0.28306  max:    1.23302  float32\n"
     ]
    },
    {
     "name": "stderr",
     "output_type": "stream",
     "text": [
      "\r",
      " 85%|████████▌ | 46/54 [02:32<00:14,  1.83s/it]"
     ]
    },
    {
     "name": "stdout",
     "output_type": "stream",
     "text": [
      "Processing 1 images\n",
      "image                    shape: (1280, 1280, 3)       min:    0.00000  max:  255.00000  uint8\n",
      "molded_images            shape: (1, 1280, 1280, 3)    min: -123.70000  max:  151.10000  float64\n",
      "image_metas              shape: (1, 18)               min:    0.00000  max: 1280.00000  int64\n",
      "anchors                  shape: (1, 409200, 4)        min:   -0.28306  max:    1.23302  float32\n"
     ]
    },
    {
     "name": "stderr",
     "output_type": "stream",
     "text": [
      "\r",
      " 87%|████████▋ | 47/54 [02:34<00:11,  1.71s/it]"
     ]
    },
    {
     "name": "stdout",
     "output_type": "stream",
     "text": [
      "Processing 1 images\n",
      "image                    shape: (1280, 1280, 3)       min:    0.00000  max:  255.00000  uint8\n",
      "molded_images            shape: (1, 1280, 1280, 3)    min: -123.70000  max:  151.10000  float64\n",
      "image_metas              shape: (1, 18)               min:    0.00000  max: 1280.00000  int64\n",
      "anchors                  shape: (1, 409200, 4)        min:   -0.28306  max:    1.23302  float32\n"
     ]
    },
    {
     "name": "stderr",
     "output_type": "stream",
     "text": [
      "\r",
      " 89%|████████▉ | 48/54 [02:35<00:10,  1.74s/it]"
     ]
    },
    {
     "name": "stdout",
     "output_type": "stream",
     "text": [
      "Processing 1 images\n",
      "image                    shape: (1280, 1280, 3)       min:    0.00000  max:  255.00000  uint8\n",
      "molded_images            shape: (1, 1280, 1280, 3)    min: -123.70000  max:  151.10000  float64\n",
      "image_metas              shape: (1, 18)               min:    0.00000  max: 1280.00000  int64\n",
      "anchors                  shape: (1, 409200, 4)        min:   -0.28306  max:    1.23302  float32\n"
     ]
    },
    {
     "name": "stderr",
     "output_type": "stream",
     "text": [
      "\r",
      " 91%|█████████ | 49/54 [02:38<00:09,  1.90s/it]"
     ]
    },
    {
     "name": "stdout",
     "output_type": "stream",
     "text": [
      "Processing 1 images\n",
      "image                    shape: (1280, 1280, 3)       min:    0.00000  max:  255.00000  uint8\n",
      "molded_images            shape: (1, 1280, 1280, 3)    min: -123.70000  max:  151.10000  float64\n",
      "image_metas              shape: (1, 18)               min:    0.00000  max: 1280.00000  int64\n",
      "anchors                  shape: (1, 409200, 4)        min:   -0.28306  max:    1.23302  float32\n"
     ]
    },
    {
     "name": "stderr",
     "output_type": "stream",
     "text": [
      "\r",
      " 93%|█████████▎| 50/54 [02:39<00:07,  1.76s/it]"
     ]
    },
    {
     "name": "stdout",
     "output_type": "stream",
     "text": [
      "Processing 1 images\n",
      "image                    shape: (1280, 1280, 3)       min:    0.00000  max:  255.00000  uint8\n",
      "molded_images            shape: (1, 1280, 1280, 3)    min: -123.70000  max:  151.10000  float64\n",
      "image_metas              shape: (1, 18)               min:    0.00000  max: 1280.00000  int64\n",
      "anchors                  shape: (1, 409200, 4)        min:   -0.28306  max:    1.23302  float32\n"
     ]
    },
    {
     "name": "stderr",
     "output_type": "stream",
     "text": [
      "\r",
      " 94%|█████████▍| 51/54 [02:41<00:05,  1.85s/it]"
     ]
    },
    {
     "name": "stdout",
     "output_type": "stream",
     "text": [
      "Processing 1 images\n",
      "image                    shape: (1280, 1280, 3)       min:    0.00000  max:  255.00000  uint8\n",
      "molded_images            shape: (1, 1280, 1280, 3)    min: -123.70000  max:  151.10000  float64\n",
      "image_metas              shape: (1, 18)               min:    0.00000  max: 1280.00000  int64\n",
      "anchors                  shape: (1, 409200, 4)        min:   -0.28306  max:    1.23302  float32\n"
     ]
    },
    {
     "name": "stderr",
     "output_type": "stream",
     "text": [
      "\r",
      " 96%|█████████▋| 52/54 [02:44<00:04,  2.05s/it]"
     ]
    },
    {
     "name": "stdout",
     "output_type": "stream",
     "text": [
      "Processing 1 images\n",
      "image                    shape: (1280, 1280, 3)       min:    0.00000  max:  255.00000  uint8\n",
      "molded_images            shape: (1, 1280, 1280, 3)    min: -123.70000  max:  151.10000  float64\n",
      "image_metas              shape: (1, 18)               min:    0.00000  max: 1280.00000  int64\n",
      "anchors                  shape: (1, 409200, 4)        min:   -0.28306  max:    1.23302  float32\n"
     ]
    },
    {
     "name": "stderr",
     "output_type": "stream",
     "text": [
      "\r",
      " 98%|█████████▊| 53/54 [02:45<00:01,  1.95s/it]"
     ]
    },
    {
     "name": "stdout",
     "output_type": "stream",
     "text": [
      "Processing 1 images\n",
      "image                    shape: (1280, 1280, 3)       min:    0.00000  max:  255.00000  uint8\n",
      "molded_images            shape: (1, 1280, 1280, 3)    min: -123.70000  max:  151.10000  float64\n",
      "image_metas              shape: (1, 18)               min:    0.00000  max: 1280.00000  int64\n",
      "anchors                  shape: (1, 409200, 4)        min:   -0.28306  max:    1.23302  float32\n"
     ]
    },
    {
     "name": "stderr",
     "output_type": "stream",
     "text": [
      "100%|██████████| 54/54 [02:47<00:00,  1.78s/it]\n"
     ]
    }
   ],
   "source": [
    "label_list = dataset.class_names\n",
    "target_predict_list = []\n",
    "\n",
    "for image_id in tqdm(dataset.image_ids):\n",
    "    \n",
    "    image, image_meta, gt_class_id, gt_bbox, gt_mask =\\\n",
    "            modellib.load_image_gt(dataset, config, image_id, use_mini_mask=False)\n",
    "\n",
    "    results = model.detect([image], verbose=1)\n",
    "    r = results[0]\n",
    "    \n",
    "    npad = ((160,160),(0,0),(0,0))\n",
    "\n",
    "    target_mask, target_fit_list = dataset.load_mask(image_id) \n",
    "    target_mask = np.pad(target_mask, npad, 'constant', constant_values=(\"0\"))\n",
    "    target = [target_fit_list, target_mask]\n",
    "\n",
    "    pred_fit_list = r['class_ids']\n",
    "    pred_mask = r['masks']\n",
    "    predict = [pred_fit_list, pred_mask]\n",
    "    \n",
    "    target_predict_list += [[target,predict]]"
   ]
  },
  {
   "cell_type": "markdown",
   "metadata": {},
   "source": [
    "# Metric - sementic segmentation metric"
   ]
  },
  {
   "cell_type": "code",
   "execution_count": 92,
   "metadata": {},
   "outputs": [
    {
     "name": "stderr",
     "output_type": "stream",
     "text": [
      "100%|██████████| 54/54 [00:16<00:00,  5.35it/s]"
     ]
    },
    {
     "name": "stdout",
     "output_type": "stream",
     "text": [
      "{'anw': 0.8507169178950528, 'iris': 0.9217449863301803, 'pupil': 0.9215811914262116, 'light_source': 0.4265750131109166, 'hole': 0.24523697588107365}\n"
     ]
    },
    {
     "name": "stderr",
     "output_type": "stream",
     "text": [
      "\n"
     ]
    }
   ],
   "source": [
    "metric_result = met.sementic_seg_metric(target_predict_list,label_list)\n",
    "print(metric_result)"
   ]
  },
  {
   "cell_type": "markdown",
   "metadata": {},
   "source": [
    "# Metric - instance segmentation metric"
   ]
  },
  {
   "cell_type": "code",
   "execution_count": null,
   "metadata": {},
   "outputs": [
    {
     "name": "stderr",
     "output_type": "stream",
     "text": [
      "\r",
      "  0%|          | 0/10 [00:00<?, ?it/s]"
     ]
    }
   ],
   "source": [
    "metric_result = met.mask_rcnn_metric(target_predict_list,label_list)\n",
    "print(metric_result)"
   ]
  },
  {
   "cell_type": "code",
   "execution_count": null,
   "metadata": {},
   "outputs": [],
   "source": []
  }
 ],
 "metadata": {
  "kernelspec": {
   "display_name": "Python34 (MaskRCNN)",
   "language": "python",
   "name": "maskrcnn"
  },
  "language_info": {
   "codemirror_mode": {
    "name": "ipython",
    "version": 3
   },
   "file_extension": ".py",
   "mimetype": "text/x-python",
   "name": "python",
   "nbconvert_exporter": "python",
   "pygments_lexer": "ipython3",
   "version": "3.4.5"
  }
 },
 "nbformat": 4,
 "nbformat_minor": 2
}
